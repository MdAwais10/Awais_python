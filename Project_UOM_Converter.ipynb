{
 "cells": [
  {
   "cell_type": "markdown",
   "id": "c0baf6f8-460e-4470-bcb4-e9207814975b",
   "metadata": {},
   "source": [
    "UOM Converter"
   ]
  },
  {
   "cell_type": "code",
   "execution_count": 1,
   "id": "97a0e2c0-0dc3-4acd-ae5d-233273887270",
   "metadata": {},
   "outputs": [
    {
     "name": "stdin",
     "output_type": "stream",
     "text": [
      "Enter a number 34\n"
     ]
    },
    {
     "data": {
      "text/plain": [
       "'34'"
      ]
     },
     "execution_count": 1,
     "metadata": {},
     "output_type": "execute_result"
    }
   ],
   "source": [
    "input(\"Enter a number\")"
   ]
  },
  {
   "cell_type": "code",
   "execution_count": 3,
   "id": "528c09c7-ebae-4ac9-afe6-6c2c57d4872d",
   "metadata": {},
   "outputs": [
    {
     "name": "stdin",
     "output_type": "stream",
     "text": [
      "Enter Starting Unit of Measurement(inches, feet, or yards): yards\n",
      "Enter Unit of Measurement to Convert to(inches, feet, or yards): inches\n"
     ]
    }
   ],
   "source": [
    "convert_from = input(\"Enter Starting Unit of Measurement(inches, feet, or yards):\")\n",
    "convert_to = input(\"Enter Unit of Measurement to Convert to(inches, feet, or yards):\")"
   ]
  },
  {
   "cell_type": "code",
   "execution_count": 5,
   "id": "d9c6b7fc-72e2-4c07-a4fb-30e3da0f5ac0",
   "metadata": {},
   "outputs": [
    {
     "name": "stdin",
     "output_type": "stream",
     "text": [
      "Enter Starting Measurement in Inches: 34\n",
      "Enter Starting Measurement in Feet: 34\n",
      "Enter Starting Measurement in Yards: 34\n"
     ]
    }
   ],
   "source": [
    "number_of_inches = input(\"Enter Starting Measurement in Inches:\")\n",
    "number_of_feet = input(\"Enter Starting Measurement in Feet:\")\n",
    "number_of_yards = input(\"Enter Starting Measurement in Yards:\")"
   ]
  },
  {
   "cell_type": "code",
   "execution_count": 7,
   "id": "ffad0d35-6dc0-44e3-8265-889670043566",
   "metadata": {},
   "outputs": [
    {
     "name": "stdin",
     "output_type": "stream",
     "text": [
      "Enter Starting Unit of Measurement(inches, feet, or yards): yards\n",
      "Enter Unit of Measurement to Convert to(inches, feet, or yards): in\n",
      "Enter Starting Measurement in Yards: 10\n"
     ]
    },
    {
     "name": "stdout",
     "output_type": "stream",
     "text": [
      "10 yards = 360 inches\n"
     ]
    }
   ],
   "source": [
    "convert_from = input(\"Enter Starting Unit of Measurement(inches, feet, or yards):\")\n",
    "convert_to = input(\"Enter Unit of Measurement to Convert to(inches, feet, or yards):\")\n",
    "\n",
    "if convert_from.lower() in ['inches','inch','in']:\n",
    "    number_of_inches = int(input(\"Enter Starting Measurement in Inches:\"))\n",
    "    if convert_to.lower() in ['feet','ft']:\n",
    "        print(number_of_inches, 'inches =', number_of_inches / 12, 'feet')\n",
    "    elif convert_to.lower() in ['yards','yard','yd','yds']:\n",
    "        print(number_of_inches, 'inches =', number_of_inches / 36, 'yards')\n",
    "    else:\n",
    "        print(\"Please enter either 'inches, 'feet', or 'yards' in the Unit of Measurement to Convert\")\n",
    "elif convert_from.lower() in ['feet','ft']:\n",
    "    number_of_feet = int(input(\"Enter Starting Measurement in Feet:\"))\n",
    "    if convert_to.lower() in ['inches','in']:\n",
    "        print(number_of_feet, 'feet =', number_of_feet * 12, 'inches')\n",
    "    elif convert_to.lower() in ['yards','yard','yd','yds']:\n",
    "        print(number_of_feet, 'feet =', number_of_feet / 3, 'yards')\n",
    "    else:\n",
    "        print(\"Please enter either 'inches, 'feet', or 'yards' in the Unit of Measurement to Convert\")\n",
    "elif convert_from.lower() in ['yards','yard','yd','yds']:\n",
    "    number_of_yards = int(input(\"Enter Starting Measurement in Yards:\"))\n",
    "    if convert_to.lower() in ['inches','in']:\n",
    "        print(number_of_yards, 'yards =', number_of_yards * 36, 'inches')\n",
    "    elif convert_to.lower() in ['feet','ft']:\n",
    "        print(number_of_yards, 'yards =', number_of_yards * 3, 'feet')\n",
    "    else:\n",
    "        print(\"Please enter either 'inches, 'feet', or 'yards' in the Unit of Measurement to Convert\")\n",
    "else:\n",
    "    print(\"Please enter either 'inches, 'feet', or 'yards' for the starting Unit of Measurement\")"
   ]
  },
  {
   "cell_type": "code",
   "execution_count": null,
   "id": "3dac83ee-2183-4f21-b1cb-e1d21b7a5f1e",
   "metadata": {},
   "outputs": [],
   "source": []
  },
  {
   "cell_type": "code",
   "execution_count": null,
   "id": "7375097c-aaa9-4791-991e-dd7ded97b0f1",
   "metadata": {},
   "outputs": [],
   "source": []
  },
  {
   "cell_type": "code",
   "execution_count": null,
   "id": "03cbc284-8c35-4b17-b2f6-8a122ef42b59",
   "metadata": {},
   "outputs": [],
   "source": []
  },
  {
   "cell_type": "code",
   "execution_count": null,
   "id": "4a4065ad-fe5a-4c68-9838-c7f57f44a136",
   "metadata": {},
   "outputs": [],
   "source": []
  },
  {
   "cell_type": "code",
   "execution_count": null,
   "id": "92ca8901-81eb-461b-8778-6424884c73f9",
   "metadata": {},
   "outputs": [],
   "source": []
  },
  {
   "cell_type": "code",
   "execution_count": null,
   "id": "fe8a2fb0-f0ad-4fe3-a147-a230944859c8",
   "metadata": {},
   "outputs": [],
   "source": []
  }
 ],
 "metadata": {
  "kernelspec": {
   "display_name": "newkernel",
   "language": "python",
   "name": "newkernel"
  },
  "language_info": {
   "codemirror_mode": {
    "name": "ipython",
    "version": 3
   },
   "file_extension": ".py",
   "mimetype": "text/x-python",
   "name": "python",
   "nbconvert_exporter": "python",
   "pygments_lexer": "ipython3",
   "version": "3.12.4"
  }
 },
 "nbformat": 4,
 "nbformat_minor": 5
}
